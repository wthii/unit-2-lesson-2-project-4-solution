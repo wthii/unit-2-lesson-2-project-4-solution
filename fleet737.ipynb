{
 "cells": [
  {
   "cell_type": "code",
   "execution_count": 2,
   "metadata": {
    "collapsed": true
   },
   "outputs": [],
   "source": [
    "import numpy as np"
   ]
  },
  {
   "cell_type": "code",
   "execution_count": 3,
   "metadata": {
    "collapsed": true
   },
   "outputs": [],
   "source": [
    "import matplotlib.pyplot as plt"
   ]
  },
  {
   "cell_type": "code",
   "execution_count": 4,
   "metadata": {
    "collapsed": true
   },
   "outputs": [],
   "source": [
    "import pandas as pd"
   ]
  },
  {
   "cell_type": "code",
   "execution_count": 5,
   "metadata": {
    "collapsed": false
   },
   "outputs": [],
   "source": [
    "df = pd.read_csv('../Fleet Data.csv')"
   ]
  },
  {
   "cell_type": "code",
   "execution_count": 6,
   "metadata": {
    "collapsed": false
   },
   "outputs": [
    {
     "name": "stdout",
     "output_type": "stream",
     "text": [
      "               Parent Airline                    Airline  \\\n",
      "0             Aegean Airlines            Aegean Airlines   \n",
      "1             Aegean Airlines                Olympic Air   \n",
      "2             Aegean Airlines            Aegean Airlines   \n",
      "3             Aegean Airlines                Olympic Air   \n",
      "4             Aegean Airlines            Aegean Airlines   \n",
      "5             Aegean Airlines                Olympic Air   \n",
      "6             Aegean Airlines            Aegean Airlines   \n",
      "7             Aegean Airlines            Aegean Airlines   \n",
      "8             Aegean Airlines            Aegean Airlines   \n",
      "9             Aegean Airlines                Olympic Air   \n",
      "10                   Aeroflot                   Aeroflot   \n",
      "11                   Aeroflot           Rossiya Airlines   \n",
      "12                   Aeroflot                   Aeroflot   \n",
      "13                   Aeroflot            Aurora Airlines   \n",
      "14                   Aeroflot                   Aeroflot   \n",
      "15                   Aeroflot           Rossiya Airlines   \n",
      "16                   Aeroflot                   Aeroflot   \n",
      "17                   Aeroflot                   Aeroflot   \n",
      "18                   Aeroflot                   Aeroflot   \n",
      "19                   Aeroflot                   Aeroflot   \n",
      "20                   Aeroflot           Rossiya Airlines   \n",
      "21                   Aeroflot           Rossiya Airlines   \n",
      "22                   Aeroflot                   Aeroflot   \n",
      "23                   Aeroflot                     Pobeda   \n",
      "24                   Aeroflot           Rossiya Airlines   \n",
      "25                   Aeroflot            Aurora Airlines   \n",
      "26                   Aeroflot           Rossiya Airlines   \n",
      "27                   Aeroflot                   Aeroflot   \n",
      "28                   Aeroflot           Rossiya Airlines   \n",
      "29                   Aeroflot                   Aeroflot   \n",
      "...                       ...                        ...   \n",
      "1553           Virgin America             Virgin America   \n",
      "1554  Virgin Atlantic Airways    Virgin Atlantic Airways   \n",
      "1555  Virgin Atlantic Airways    Virgin Atlantic Airways   \n",
      "1556  Virgin Atlantic Airways    Virgin Atlantic Airways   \n",
      "1557  Virgin Atlantic Airways    Virgin Atlantic Airways   \n",
      "1558  Virgin Atlantic Airways    Virgin Atlantic Airways   \n",
      "1559  Virgin Atlantic Airways    Virgin Atlantic Airways   \n",
      "1560  Virgin Atlantic Airways    Virgin Atlantic Airways   \n",
      "1561         Virgin Australia  Virgin Australia Regional   \n",
      "1562         Virgin Australia         Tigerair Australia   \n",
      "1563         Virgin Australia           Virgin Australia   \n",
      "1564         Virgin Australia           Virgin Australia   \n",
      "1565         Virgin Australia  Virgin Australia Regional   \n",
      "1566         Virgin Australia           Virgin Australia   \n",
      "1567         Virgin Australia               Virgin Samoa   \n",
      "1568         Virgin Australia         Tigerair Australia   \n",
      "1569         Virgin Australia           Virgin Australia   \n",
      "1570         Virgin Australia           Virgin Australia   \n",
      "1571         Virgin Australia           Virgin Australia   \n",
      "1572         Virgin Australia  Virgin Australia Regional   \n",
      "1573         Virgin Australia  Virgin Australia Regional   \n",
      "1574                  Volaris                    Volaris   \n",
      "1575                  Volaris                    Volaris   \n",
      "1576                  Volaris                    Volaris   \n",
      "1577                  WestJet                    WestJet   \n",
      "1578                  WestJet                    WestJet   \n",
      "1579                  WestJet                    WestJet   \n",
      "1580                  WestJet             WestJet Encore   \n",
      "1581                 Wizz Air                   Wizz Air   \n",
      "1582                 Wizz Air                   Wizz Air   \n",
      "\n",
      "                          Aircraft Type  Current  Future  Historic  Total  \\\n",
      "0                           Airbus A319      1.0     NaN       3.0    4.0   \n",
      "1                           Airbus A319      NaN     NaN       8.0    8.0   \n",
      "2                           Airbus A320     38.0     NaN       3.0   41.0   \n",
      "3                           Airbus A320      NaN     NaN       9.0    9.0   \n",
      "4                           Airbus A321      8.0     NaN       NaN    8.0   \n",
      "5                             ATR 42/72      2.0     NaN       NaN    2.0   \n",
      "6                             ATR 42/72      NaN     NaN       6.0    6.0   \n",
      "7                            Boeing 737      NaN     NaN      17.0   17.0   \n",
      "8     British Aerospace BAe 146/Avro RJ      NaN     NaN       6.0    6.0   \n",
      "9      De Havilland Canada DHC-8 Dash 8     12.0     NaN       7.0   19.0   \n",
      "10                          Airbus A310      NaN     NaN      14.0   14.0   \n",
      "11                          Airbus A319     26.0     NaN       5.0   31.0   \n",
      "12                          Airbus A319      NaN     NaN      15.0   15.0   \n",
      "13                          Airbus A319     10.0     NaN       NaN   10.0   \n",
      "14                          Airbus A320     71.0     1.0       3.0   75.0   \n",
      "15                          Airbus A320      5.0     NaN       8.0   13.0   \n",
      "16                          Airbus A321     31.0     NaN       8.0   39.0   \n",
      "17                          Airbus A330     22.0     NaN       NaN   22.0   \n",
      "18                          Airbus A350      NaN     NaN       NaN    NaN   \n",
      "19                       Antonov An-124      NaN     NaN       3.0    3.0   \n",
      "20                       Antonov An-124      NaN     NaN       2.0    2.0   \n",
      "21                Antonov An-148/An-158      NaN     NaN       6.0    6.0   \n",
      "22                           Boeing 737     20.0     1.0      16.0   37.0   \n",
      "23                           Boeing 737     12.0     NaN       NaN   12.0   \n",
      "24                           Boeing 737     17.0     1.0       5.0   23.0   \n",
      "25                           Boeing 737      NaN     NaN       5.0    5.0   \n",
      "26                           Boeing 747      7.0     2.0       NaN    9.0   \n",
      "27                           Boeing 767      NaN     NaN      13.0   13.0   \n",
      "28                           Boeing 767      NaN     NaN       3.0    3.0   \n",
      "29                           Boeing 777     15.0     NaN       2.0   17.0   \n",
      "...                                 ...      ...     ...       ...    ...   \n",
      "1553                        Airbus A321      NaN     NaN       NaN    NaN   \n",
      "1554                        Airbus A320      NaN     NaN       6.0    6.0   \n",
      "1555                        Airbus A321      NaN     NaN       1.0    1.0   \n",
      "1556                        Airbus A330     10.0     NaN       NaN   10.0   \n",
      "1557                        Airbus A340      8.0     NaN      21.0   29.0   \n",
      "1558                         Boeing 747      8.0     NaN      22.0   30.0   \n",
      "1559                         Boeing 767      NaN     NaN       1.0    1.0   \n",
      "1560              Boeing 787 Dreamliner     13.0     4.0       NaN   17.0   \n",
      "1561                        Airbus A320      2.0     NaN       NaN    2.0   \n",
      "1562                        Airbus A320     14.0     NaN       NaN   14.0   \n",
      "1563                        Airbus A330      6.0     NaN       2.0    8.0   \n",
      "1564                          ATR 42/72     14.0     NaN       NaN   14.0   \n",
      "1565                          ATR 42/72      NaN     NaN      14.0   14.0   \n",
      "1566                         Boeing 737     75.0     NaN      26.0  101.0   \n",
      "1567                         Boeing 737      1.0     NaN       1.0    2.0   \n",
      "1568                         Boeing 737      3.0     1.0       NaN    4.0   \n",
      "1569                         Boeing 777      5.0     NaN       NaN    5.0   \n",
      "1570                    Embraer ERJ-170      NaN     NaN       4.0    4.0   \n",
      "1571                    Embraer ERJ-190     13.0     NaN       5.0   18.0   \n",
      "1572                   Fokker F50 / F60      NaN     NaN       8.0    8.0   \n",
      "1573                  Fokker F70 / F100     14.0     NaN       NaN   14.0   \n",
      "1574                        Airbus A319     15.0     NaN       9.0   24.0   \n",
      "1575                        Airbus A320     44.0     3.0       1.0   48.0   \n",
      "1576                        Airbus A321      9.0     1.0       NaN   10.0   \n",
      "1577                         Boeing 737    114.0     1.0      40.0  155.0   \n",
      "1578                         Boeing 757      NaN     NaN       1.0    1.0   \n",
      "1579                         Boeing 767      4.0     NaN       NaN    4.0   \n",
      "1580   De Havilland Canada DHC-8 Dash 8     33.0     NaN       NaN   33.0   \n",
      "1581                        Airbus A320     63.0     NaN       9.0   72.0   \n",
      "1582                        Airbus A321     11.0     4.0       NaN   15.0   \n",
      "\n",
      "      Orders Unit Cost Total Cost (Current)  Average Age  \n",
      "0        NaN       $90                  $90         11.6  \n",
      "1        NaN       $90                   $0          NaN  \n",
      "2        NaN       $98               $3,724          7.5  \n",
      "3        NaN       $98                   $0          NaN  \n",
      "4        NaN      $115                 $919         10.3  \n",
      "5        NaN       $22                  $44          2.4  \n",
      "6        NaN       $22                   $0          NaN  \n",
      "7        NaN       $74                   $0          NaN  \n",
      "8        NaN       $14                   $0          NaN  \n",
      "9        NaN       $31                 $376         12.6  \n",
      "10       NaN       $75                   $0          NaN  \n",
      "11       NaN       $90               $2,330         12.7  \n",
      "12       NaN       $90                   $0          NaN  \n",
      "13       NaN       $90                 $896         11.0  \n",
      "14      11.0       $98               $6,958          5.7  \n",
      "15       NaN       $98                 $490         15.2  \n",
      "16       9.0      $115               $3,562          3.6  \n",
      "17       NaN      $240               $5,280          5.9  \n",
      "18      22.0      $312                   $0          NaN  \n",
      "19       NaN       $75                   $0          NaN  \n",
      "20       NaN       $75                   $0          NaN  \n",
      "21       NaN       $28                   $0          NaN  \n",
      "22      26.0       $74               $1,480          1.6  \n",
      "23       NaN       $74                 $888          2.1  \n",
      "24       NaN       $74               $1,258          9.6  \n",
      "25       NaN       $74                   $0          NaN  \n",
      "26       2.0      $316               $2,211         16.7  \n",
      "27       NaN      $187                   $0          NaN  \n",
      "28       NaN      $187                   $0          NaN  \n",
      "29       1.0      $295               $4,418          2.5  \n",
      "...      ...       ...                  ...          ...  \n",
      "1553    10.0      $115                   $0          NaN  \n",
      "1554     NaN       $98                   $0          NaN  \n",
      "1555     NaN      $115                   $0          NaN  \n",
      "1556     NaN      $240               $2,400          5.1  \n",
      "1557     NaN      $216               $1,724         10.5  \n",
      "1558     NaN      $316               $2,526         17.1  \n",
      "1559     NaN      $187                   $0          NaN  \n",
      "1560     NaN      $265               $3,446          1.3  \n",
      "1561     NaN       $98                 $196         18.8  \n",
      "1562     NaN       $98               $1,372          7.2  \n",
      "1563     NaN      $240               $1,440          3.9  \n",
      "1564     NaN       $22                 $309          4.4  \n",
      "1565     NaN       $22                   $0          NaN  \n",
      "1566    40.0       $74               $5,549          6.7  \n",
      "1567     NaN       $74                  $74          5.1  \n",
      "1568     NaN       $74                 $222         12.5  \n",
      "1569     NaN      $295               $1,473          7.4  \n",
      "1570     NaN       $39                   $0          NaN  \n",
      "1571     NaN       $46                 $601          7.6  \n",
      "1572     NaN       $18                   $0          NaN  \n",
      "1573     NaN       $20                 $280         24.6  \n",
      "1574     NaN       $90               $1,344          9.7  \n",
      "1575    42.0       $98               $4,312          3.3  \n",
      "1576     NaN      $115               $1,034          0.6  \n",
      "1577     NaN       $74               $8,434          8.3  \n",
      "1578     NaN       $73                   $0          NaN  \n",
      "1579     NaN      $187                 $748         24.5  \n",
      "1580     9.0       $31               $1,033          2.0  \n",
      "1581     8.0       $98               $6,174          5.1  \n",
      "1582   129.0      $115               $1,264          0.6  \n",
      "\n",
      "[1583 rows x 11 columns]\n"
     ]
    }
   ],
   "source": [
    "print(df)"
   ]
  },
  {
   "cell_type": "code",
   "execution_count": 7,
   "metadata": {
    "collapsed": true
   },
   "outputs": [],
   "source": [
    "fleet_df = df"
   ]
  },
  {
   "cell_type": "code",
   "execution_count": 8,
   "metadata": {
    "collapsed": false
   },
   "outputs": [
    {
     "name": "stdout",
     "output_type": "stream",
     "text": [
      "Index(['Parent Airline', 'Airline', 'Aircraft Type', 'Current', 'Future',\n",
      "       'Historic', 'Total', 'Orders', 'Unit Cost', 'Total Cost (Current)',\n",
      "       'Average Age'],\n",
      "      dtype='object')\n"
     ]
    }
   ],
   "source": [
    "print(fleet_df.columns)"
   ]
  },
  {
   "cell_type": "code",
   "execution_count": 9,
   "metadata": {
    "collapsed": false
   },
   "outputs": [],
   "source": [
    "# We're going to focus on the airlines operating a fleet of just a single aircraft, the Boeing 737"
   ]
  },
  {
   "cell_type": "code",
   "execution_count": 10,
   "metadata": {
    "collapsed": false
   },
   "outputs": [],
   "source": [
    "fleet737_df = fleet_df.ix[lambda df: fleet_df['Aircraft Type']=='Boeing 737']"
   ]
  },
  {
   "cell_type": "code",
   "execution_count": 11,
   "metadata": {
    "collapsed": true
   },
   "outputs": [],
   "source": [
    "# We're going to also restrict to those airlines for which average fleet age is available"
   ]
  },
  {
   "cell_type": "code",
   "execution_count": 12,
   "metadata": {
    "collapsed": true
   },
   "outputs": [],
   "source": [
    "fleet737_df = fleet737_df[ fleet737_df[ 'Average Age' ] > 0 ]"
   ]
  },
  {
   "cell_type": "code",
   "execution_count": 13,
   "metadata": {
    "collapsed": false
   },
   "outputs": [
    {
     "data": {
      "text/plain": [
       "(array([  8.,  21.,  25.,  17.,   6.,   4.,   5.,   6.,   3.,   1.]),\n",
       " array([  1.3 ,   3.57,   5.84,   8.11,  10.38,  12.65,  14.92,  17.19,\n",
       "         19.46,  21.73,  24.  ]),\n",
       " <a list of 10 Patch objects>)"
      ]
     },
     "execution_count": 13,
     "metadata": {},
     "output_type": "execute_result"
    }
   ],
   "source": [
    "plt.hist( fleet737_df[ 'Average Age' ], color='blue' )"
   ]
  },
  {
   "cell_type": "code",
   "execution_count": 14,
   "metadata": {
    "collapsed": false
   },
   "outputs": [
    {
     "data": {
      "image/png": "[encoded data removed]",
      "text/plain": [
       "<matplotlib.figure.Figure at 0x10ec8b208>"
      ]
     },
     "metadata": {},
     "output_type": "display_data"
    }
   ],
   "source": [
    "plt.show()"
   ]
  },
  {
   "cell_type": "code",
   "execution_count": 15,
   "metadata": {
    "collapsed": true
   },
   "outputs": [],
   "source": [
    "# OK, so here's a histogram showing the distribution of average 737 fleet ages by airlines.  I get excited when I see\n",
    "# a bimodal distribution, because there's a story in there somewhere.  Bimodal distributions are generated often when\n",
    "# two sources of data are present.  Here, the basic data are average ages, so the histogram tells the story of two\n",
    "# periods in which a lot of 737s were sold.  One peak occurred about 17 or 18 years ago, and the other about 7 years\n",
    "# ago.  The earlier period occurred in the late 1990s, when the economy was relatively strong and competition among\n",
    "# the airlines was fierce.  The early 2000s witnessed recession in many industries, possibly the airlines and aircraft\n",
    "# manufacture (I am at best an amateur economist).  The bigger, more recent peak, also came at a time of recession for\n",
    "# many industries, but it appears that there was a robust market for Boeing 737s.  These are efficient and relatively\n",
    "# low maintenance aircraft which provided good value for airlines needing to rejeuvenate aging fleets."
   ]
  },
  {
   "cell_type": "code",
   "execution_count": null,
   "metadata": {
    "collapsed": true
   },
   "outputs": [],
   "source": [
    "# Data supplied via https://www.kaggle.com/traceyvanp/airlinefleet"
   ]
  },
  {
   "cell_type": "code",
   "execution_count": null,
   "metadata": {
    "collapsed": true
   },
   "outputs": [],
   "source": []
  }
 ],
 "metadata": {
  "kernelspec": {
   "display_name": "Python 3",
   "language": "python",
   "name": "python3"
  },
  "language_info": {
   "codemirror_mode": {
    "name": "ipython",
    "version": 3
   },
   "file_extension": ".py",
   "mimetype": "text/x-python",
   "name": "python",
   "nbconvert_exporter": "python",
   "pygments_lexer": "ipython3",
   "version": "3.6.0"
  }
 },
 "nbformat": 4,
 "nbformat_minor": 2
}
