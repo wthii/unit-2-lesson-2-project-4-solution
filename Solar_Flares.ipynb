{
 "cells": [
  {
   "cell_type": "code",
   "execution_count": 3,
   "metadata": {
    "collapsed": true
   },
   "outputs": [],
   "source": [
    "import numpy as np"
   ]
  },
  {
   "cell_type": "code",
   "execution_count": 4,
   "metadata": {
    "collapsed": true
   },
   "outputs": [],
   "source": [
    "import matplotlib.pyplot as plt"
   ]
  },
  {
   "cell_type": "code",
   "execution_count": 5,
   "metadata": {
    "collapsed": true
   },
   "outputs": [],
   "source": [
    "import pandas as pd"
   ]
  },
  {
   "cell_type": "code",
   "execution_count": 7,
   "metadata": {
    "collapsed": false
   },
   "outputs": [],
   "source": [
    "sf = pd.read_csv('../hessi.solar.flare.2002to2016.csv')"
   ]
  },
  {
   "cell_type": "code",
   "execution_count": 8,
   "metadata": {
    "collapsed": false
   },
   "outputs": [
    {
     "name": "stdout",
     "output_type": "stream",
     "text": [
      "Index(['flare', 'start.date', 'start.time', 'peak', 'end', 'duration.s',\n",
      "       'peak.c/s', 'total.counts', 'energy.kev', 'x.pos.asec', 'y.pos.asec',\n",
      "       'radial', 'active.region.ar', 'flag.1', 'flag.2', 'flag.3', 'flag.4',\n",
      "       'flag.5'],\n",
      "      dtype='object')\n"
     ]
    }
   ],
   "source": [
    "print(sf.columns)"
   ]
  },
  {
   "cell_type": "code",
   "execution_count": 9,
   "metadata": {
    "collapsed": false
   },
   "outputs": [],
   "source": [
    "x = sf['duration.s']"
   ]
  },
  {
   "cell_type": "code",
   "execution_count": 10,
   "metadata": {
    "collapsed": false
   },
   "outputs": [
    {
     "data": {
      "text/plain": [
       "(array([  6.85450000e+04,   3.03930000e+04,   9.31000000e+03,\n",
       "          3.29500000e+03,   1.35600000e+03,   6.00000000e+02,\n",
       "          2.44000000e+02,   1.15000000e+02,   7.50000000e+01,\n",
       "          9.00000000e+00]),\n",
       " array([    8. ,   451.6,   895.2,  1338.8,  1782.4,  2226. ,  2669.6,\n",
       "         3113.2,  3556.8,  4000.4,  4444. ]),\n",
       " <a list of 10 Patch objects>)"
      ]
     },
     "execution_count": 10,
     "metadata": {},
     "output_type": "execute_result"
    }
   ],
   "source": [
    "plt.hist(x, color='red')"
   ]
  },
  {
   "cell_type": "code",
   "execution_count": 11,
   "metadata": {
    "collapsed": false
   },
   "outputs": [
    {
     "data": {
      "image/png": "[encoded data removed]",
      "text/plain": [
       "<matplotlib.figure.Figure at 0x110a77128>"
      ]
     },
     "metadata": {},
     "output_type": "display_data"
    }
   ],
   "source": [
    "plt.show()"
   ]
  },
  {
   "cell_type": "code",
   "execution_count": 12,
   "metadata": {
    "collapsed": true
   },
   "outputs": [],
   "source": [
    "# This histogram certainly fits with my undereducated expectations:  most solar flares are of relatively brief\n",
    "# duration, and fewer and fewer flares occur with increasing duration.  It looks like a negative exponential\n",
    "# distribution, but more sophisticated analysis would be required to peg the parameters.  Let's amuse our\n",
    "# statistical imaginations with a boxplot."
   ]
  },
  {
   "cell_type": "code",
   "execution_count": 13,
   "metadata": {
    "collapsed": false
   },
   "outputs": [
    {
     "data": {
      "text/plain": [
       "{'boxes': [<matplotlib.lines.Line2D at 0x10adc35c0>],\n",
       " 'caps': [<matplotlib.lines.Line2D at 0x10adc9f98>,\n",
       "  <matplotlib.lines.Line2D at 0x10add47f0>],\n",
       " 'fliers': [<matplotlib.lines.Line2D at 0x10adda860>],\n",
       " 'means': [],\n",
       " 'medians': [<matplotlib.lines.Line2D at 0x10add49b0>],\n",
       " 'whiskers': [<matplotlib.lines.Line2D at 0x10adc3f28>,\n",
       "  <matplotlib.lines.Line2D at 0x10adc9780>]}"
      ]
     },
     "execution_count": 13,
     "metadata": {},
     "output_type": "execute_result"
    }
   ],
   "source": [
    "plt.boxplot(x)"
   ]
  },
  {
   "cell_type": "code",
   "execution_count": 14,
   "metadata": {
    "collapsed": false
   },
   "outputs": [
    {
     "data": {
      "image/png": "[encoded data removed]",
      "text/plain": [
       "<matplotlib.figure.Figure at 0x104ea3630>"
      ]
     },
     "metadata": {},
     "output_type": "display_data"
    }
   ],
   "source": [
    "plt.show()\n"
   ]
  },
  {
   "cell_type": "code",
   "execution_count": 15,
   "metadata": {
    "collapsed": true
   },
   "outputs": [],
   "source": [
    "# I'm sorry, but a solid string of \"outliers\" such as this indicates that these observations aren't really\n",
    "# outliers at all, 1.5 IQR rule notwithstanding.  By definition, an outlier is an observation which \"breaks\n",
    "# the pattern\" -- but these are clearly PART of the pattern and are not exceptional.  Relying on hard-and-fast\n",
    "# formulas such as the 1.5 IQR rule for determining which observations constitute outliers, rather than expertise\n",
    "# in the topic to which we seek to apply statistical methods, is generally a mistake.\n",
    "#\n",
    "# Now we examine the relationship between solar flare duration and the number of peaks in energy emissions during\n",
    "# the flare."
   ]
  },
  {
   "cell_type": "code",
   "execution_count": 16,
   "metadata": {
    "collapsed": false
   },
   "outputs": [
    {
     "data": {
      "text/plain": [
       "<matplotlib.collections.PathCollection at 0x10495df28>"
      ]
     },
     "execution_count": 16,
     "metadata": {},
     "output_type": "execute_result"
    }
   ],
   "source": [
    "plt.scatter( x = sf['duration.s'], y = sf['peak.c/s'] )"
   ]
  },
  {
   "cell_type": "code",
   "execution_count": 17,
   "metadata": {
    "collapsed": false
   },
   "outputs": [
    {
     "data": {
      "image/png": "[encoded data removed]",
      "text/plain": [
       "<matplotlib.figure.Figure at 0x10df702b0>"
      ]
     },
     "metadata": {},
     "output_type": "display_data"
    }
   ],
   "source": [
    "plt.show()"
   ]
  },
  {
   "cell_type": "code",
   "execution_count": 18,
   "metadata": {
    "collapsed": true
   },
   "outputs": [],
   "source": [
    "# YIKES, what a miserable scatterplot!  I can't tell WHAT the hell is going on here.  CLEARLY we need to do some re-\n",
    "# expression.  The x's and the y's seem to be lumped toward the bottom end.  I'm thinking log-log, but we need to\n",
    "# make sure we have no zeroes in either variable (recall that no logarithm is defined at zero)"
   ]
  },
  {
   "cell_type": "code",
   "execution_count": 19,
   "metadata": {
    "collapsed": true
   },
   "outputs": [],
   "source": [
    "sf = sf[ ~( ( sf[ 'duration.s' ] == 0 ) | ( sf[ 'peak.c/s' ] == 0 ) ) ]"
   ]
  },
  {
   "cell_type": "code",
   "execution_count": 20,
   "metadata": {
    "collapsed": false
   },
   "outputs": [
    {
     "data": {
      "text/plain": [
       "<matplotlib.collections.PathCollection at 0x10d6e6ba8>"
      ]
     },
     "execution_count": 20,
     "metadata": {},
     "output_type": "execute_result"
    }
   ],
   "source": [
    "plt.scatter( x = np.log(sf['duration.s']), y = np.log(sf['peak.c/s']))"
   ]
  },
  {
   "cell_type": "code",
   "execution_count": 21,
   "metadata": {
    "collapsed": false
   },
   "outputs": [
    {
     "data": {
      "image/png": "[encoded data removed]",
      "text/plain": [
       "<matplotlib.figure.Figure at 0x10d67e400>"
      ]
     },
     "metadata": {},
     "output_type": "display_data"
    }
   ],
   "source": [
    "plt.show()\n"
   ]
  },
  {
   "cell_type": "code",
   "execution_count": 22,
   "metadata": {
    "collapsed": true
   },
   "outputs": [],
   "source": [
    "# OK, so the re-expression peeled that mess away from the x-axis.  It did not succeed in producing a linear\n",
    "# scatterplot.  There appears to be a systematic curvature.  Let's push this just a bit further by squaring the\n",
    "# y coordinates."
   ]
  },
  {
   "cell_type": "code",
   "execution_count": 23,
   "metadata": {
    "collapsed": false
   },
   "outputs": [
    {
     "data": {
      "text/plain": [
       "<matplotlib.collections.PathCollection at 0x10d8d47b8>"
      ]
     },
     "execution_count": 23,
     "metadata": {},
     "output_type": "execute_result"
    }
   ],
   "source": [
    "plt.scatter( x = np.log(sf['duration.s']), y = np.log(sf['peak.c/s'])*np.log(sf['peak.c/s']))"
   ]
  },
  {
   "cell_type": "code",
   "execution_count": 24,
   "metadata": {
    "collapsed": false
   },
   "outputs": [
    {
     "data": {
      "image/png": "[encoded data removed]",
      "text/plain": [
       "<matplotlib.figure.Figure at 0x1048ed358>"
      ]
     },
     "metadata": {},
     "output_type": "display_data"
    }
   ],
   "source": [
    "plt.show()"
   ]
  },
  {
   "cell_type": "code",
   "execution_count": 25,
   "metadata": {
    "collapsed": false
   },
   "outputs": [],
   "source": [
    "# Better.  Not there yet, but I'm going to give up at this point.  It's such a funky little lump of a scatterplot,\n",
    "# I'm not sure more fiddlin' will produce something we'd want to call \"linear.\"  It certainly makes sense to me, with\n",
    "# absolutely no understanding of astrophysics, that there would be a positive association between the duration of a\n",
    "# solar flare and the number of energy emission peaks witnessed during the flare.  I have no intuition as to whether\n",
    "# that relationship ought to be linear (or quadratic, or polynomial in any sense, or exponential, ...)."
   ]
  },
  {
   "cell_type": "code",
   "execution_count": 68,
   "metadata": {
    "collapsed": true
   },
   "outputs": [],
   "source": [
    "# Data supplied via https://www.kaggle.com/khsamaha/solar-flares-rhessi"
   ]
  },
  {
   "cell_type": "code",
   "execution_count": null,
   "metadata": {
    "collapsed": true
   },
   "outputs": [],
   "source": []
  }
 ],
 "metadata": {
  "kernelspec": {
   "display_name": "Python 3",
   "language": "python",
   "name": "python3"
  },
  "language_info": {
   "codemirror_mode": {
    "name": "ipython",
    "version": 3
   },
   "file_extension": ".py",
   "mimetype": "text/x-python",
   "name": "python",
   "nbconvert_exporter": "python",
   "pygments_lexer": "ipython3",
   "version": "3.6.0"
  }
 },
 "nbformat": 4,
 "nbformat_minor": 2
}
